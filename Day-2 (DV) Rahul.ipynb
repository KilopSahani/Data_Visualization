{
 "cells": [
  {
   "cell_type": "code",
   "execution_count": null,
   "id": "e74dbf5f",
   "metadata": {},
   "outputs": [],
   "source": [
    "FIND IF THE SUBSTRING IS PRESENT\n",
    "CHECK IF THE SUBSTRING IS SAME\n"
   ]
  },
  {
   "cell_type": "code",
   "execution_count": 1,
   "id": "5cce713c",
   "metadata": {},
   "outputs": [
    {
     "name": "stdout",
     "output_type": "stream",
     "text": [
      "Yes present\n"
     ]
    }
   ],
   "source": [
    "word = 'its just for practise to find this word'\n",
    "\n",
    "find = 'find'\n",
    "\n",
    "if find in word:\n",
    "    print('Yes present')\n",
    "else:\n",
    "    print('Not present')"
   ]
  },
  {
   "cell_type": "code",
   "execution_count": 2,
   "id": "4d6ee582",
   "metadata": {},
   "outputs": [
    {
     "name": "stdout",
     "output_type": "stream",
     "text": [
      "true\n"
     ]
    }
   ],
   "source": [
    "#now the other way of accessing it \n",
    "word = 'its just for practise to find this word'\n",
    "\n",
    "find = 'find'\n",
    "\n",
    "# using split of function \n",
    "\n",
    "substring = word.split()\n",
    "\n",
    "if find in substring:\n",
    "    print('true')\n",
    "else:\n",
    "    print('False')\n"
   ]
  },
  {
   "cell_type": "code",
   "execution_count": 6,
   "id": "5116e389",
   "metadata": {},
   "outputs": [
    {
     "name": "stdout",
     "output_type": "stream",
     "text": [
      "['Bangalore']\n",
      "['Goa', 'Bangalore']\n"
     ]
    }
   ],
   "source": [
    "# now list of lists \n",
    "\n",
    "Mylist1 = ['Delhi', 'Goa', 'Bangalore', 'Lucknow','Mumbai']\n",
    "Mylist2 = ['Vellore', 'Chennai']\n",
    "\n",
    "print(Mylist1[2:3])\n",
    "print(Mylist1[1:3])"
   ]
  },
  {
   "cell_type": "code",
   "execution_count": 12,
   "id": "5b09c16c",
   "metadata": {},
   "outputs": [
    {
     "name": "stdout",
     "output_type": "stream",
     "text": [
      "['Delhi', 'Goa', 'Bangalore', 'Lucknow', 'Mumbai', ['Vellore', 'Chennai'], ['Vellore', 'Chennai'], 'Vellore', 'Chennai']\n",
      "['Delhi', 'Goa', 'Bangalore', 'Lucknow', 'Mumbai', ['Vellore', 'Chennai'], ['Vellore', 'Chennai']]\n"
     ]
    }
   ],
   "source": [
    "Mylist3 = Mylist1 + Mylist2\n",
    "print(Mylist3)\n",
    "Mylist4 = []\n",
    "for i in Mylist1:\n",
    "    Mylist2.append\n",
    "print(Mylist1)"
   ]
  },
  {
   "cell_type": "code",
   "execution_count": 13,
   "id": "d9f6977c",
   "metadata": {},
   "outputs": [
    {
     "name": "stdout",
     "output_type": "stream",
     "text": [
      "Awesome!\n",
      "Awesome!\n",
      "Awesome!\n",
      "Awesome!\n",
      "Awesome!\n"
     ]
    }
   ],
   "source": [
    "for x in range(0,5):\n",
    "    print('Awesome!')"
   ]
  },
  {
   "cell_type": "code",
   "execution_count": 18,
   "id": "b7b7284e",
   "metadata": {},
   "outputs": [
    {
     "name": "stdout",
     "output_type": "stream",
     "text": [
      "Chennai\n",
      "Chennai\n"
     ]
    }
   ],
   "source": [
    "count= 2\n",
    "while count!=0:\n",
    "    print(Mylist2[1])\n",
    "    count= count -1\n",
    "    "
   ]
  },
  {
   "cell_type": "code",
   "execution_count": 23,
   "id": "e0d670d3",
   "metadata": {},
   "outputs": [],
   "source": [
    "def savings(PocketMoney, Freelance, Internship):\n",
    "    total = PocketMoney + Freelance + Internship\n",
    "    return total\n",
    "    "
   ]
  },
  {
   "cell_type": "code",
   "execution_count": 24,
   "id": "4e925139",
   "metadata": {},
   "outputs": [
    {
     "data": {
      "text/plain": [
       "31000"
      ]
     },
     "execution_count": 24,
     "metadata": {},
     "output_type": "execute_result"
    }
   ],
   "source": [
    "savings(1000, 20000,10000)"
   ]
  },
  {
   "cell_type": "code",
   "execution_count": 28,
   "id": "7fd35989",
   "metadata": {},
   "outputs": [],
   "source": [
    "import matplotlib.pyplot as plt"
   ]
  },
  {
   "cell_type": "code",
   "execution_count": 40,
   "id": "42af6aa2",
   "metadata": {},
   "outputs": [
    {
     "data": {
      "text/plain": [
       "<matplotlib.legend.Legend at 0x1d191d052e0>"
      ]
     },
     "execution_count": 40,
     "metadata": {},
     "output_type": "execute_result"
    },
    {
     "data": {
      "image/png": "[encoded data removed]",
      "text/plain": [
       "<Figure size 432x288 with 1 Axes>"
      ]
     },
     "metadata": {
      "needs_background": "light"
     },
     "output_type": "display_data"
    }
   ],
   "source": [
    "dev_ages = [21,22,23,20,34]\n",
    "dev_sal =[100000,2000000,300000,4000000,500000]\n",
    "dev_sal1 =[200000,3000000,800000,7000000,100000]\n",
    "\n",
    "plt.title('Avg salary in $')\n",
    "plt.xlabel('Age')\n",
    "plt.ylabel('Salary')\n",
    "\n",
    "plt.plot(dev_ages, dev_sal, color ='r', linestyle = '--', label = 'dev_sal and age')\n",
    "plt.plot(dev_ages, dev_sal1, color ='g', label = 'Age and Salary', linestyle = '-')\n",
    "plt.legend()\n"
   ]
  },
  {
   "cell_type": "code",
   "execution_count": null,
   "id": "5c3a7e5b",
   "metadata": {},
   "outputs": [],
   "source": []
  }
 ],
 "metadata": {
  "kernelspec": {
   "display_name": "Python 3 (ipykernel)",
   "language": "python",
   "name": "python3"
  },
  "language_info": {
   "codemirror_mode": {
    "name": "ipython",
    "version": 3
   },
   "file_extension": ".py",
   "mimetype": "text/x-python",
   "name": "python",
   "nbconvert_exporter": "python",
   "pygments_lexer": "ipython3",
   "version": "3.9.7"
  }
 },
 "nbformat": 4,
 "nbformat_minor": 5
}
